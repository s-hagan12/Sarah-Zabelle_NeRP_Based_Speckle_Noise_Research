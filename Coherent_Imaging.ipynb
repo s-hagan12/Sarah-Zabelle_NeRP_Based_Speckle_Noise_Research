{
 "cells": [
  {
   "cell_type": "code",
   "execution_count": null,
   "id": "49acbf3b-1af4-4350-af4a-e2edfbd017d8",
   "metadata": {},
   "outputs": [],
   "source": [
    "#This Notebook is based on code from Eric Chen for generating speckle noise data sets"
   ]
  },
  {
   "cell_type": "code",
   "execution_count": null,
   "id": "77ed05b8-1e7e-476a-86f4-668cdcb7c0d1",
   "metadata": {},
   "outputs": [],
   "source": [
    "import numpy as np\n",
    "import pickle\n",
    "import os"
   ]
  },
  {
   "cell_type": "code",
   "execution_count": null,
   "id": "57efff74-f06f-4d1c-8dea-208c8ca70264",
   "metadata": {},
   "outputs": [],
   "source": [
    "#Create the speckle noise datasets (no additive noise)\n",
    "data_path  = \"/Users/sarahhagan/Desktop/NeRP Research/ILSVRC2012_50x50_small.pkl\"  # path to your .pkl of shape (N,1024)\n",
    "out_dir    = \"/Users/sarahhagan/Desktop/NeRP Research/Speckle_noise_datasets\"      # where to dump the .npz files\n",
    "threshold  = 1.0\n",
    "L          = 50\n",
    "rates      = [0.1, 0.2, 0.3, 0.4]\n",
    "sigma_w    = 1.0\n",
    "with open(data_path, \"rb\") as f:\n",
    "    data = pickle.load(f)        \n",
    "N, n = data.shape\n",
    "print(f\"loaded {N} patches of dimension {n}\")\n",
    "mask = np.max(data, axis=1) > threshold\n",
    "X = data[mask]\n",
    "M = X.shape[0]\n",
    "print(f\"keeping {M} patches (max‐pixel > {threshold})\")\n",
    "X /= 255\n",
    "print(X)\n",
    "os.makedirs(out_dir, exist_ok=True)\n",
    "rng = np.random.default_rng(0)\n",
    "for r in rates:\n",
    "    m = int(r * n)\n",
    "    A = rng.standard_normal((m, n)) / np.sqrt(m)\n",
    "    Y = np.zeros((M, L, m), dtype=float)\n",
    "    # generate looks\n",
    "    for i, x in enumerate(X):\n",
    "        rng2 = np.random.default_rng(i)\n",
    "        W_block = rng2.standard_normal((L, n)) * sigma_w\n",
    "        X_block = x[None, :] * W_block\n",
    "        Y[i] = X_block.dot(A.T)\n",
    "    out_path = os.path.join(out_dir, f\"coherent_{int(r*100)}pct.npz\")\n",
    "    np.savez_compressed(out_path, A=A, X=X, Y=Y)\n",
    "    print(f\"→ saved {out_path}: A({m},{n}), X({M},{n}), Y({M},{L},{m})\")"
   ]
  },
  {
   "cell_type": "code",
   "execution_count": null,
   "id": "d3e49053-1001-402a-a0a4-32761febf986",
   "metadata": {},
   "outputs": [],
   "source": [
    "#Create the speckle noise datasets with no sensing matrix and no additive noise\n",
    "data_path  = \"/Users/sarahhagan/Desktop/NeRP Research/ILSVRC2012_50x50_small.pkl\"  # path to your .pkl of shape (N,1024)\n",
    "out_dir    = \"/Users/sarahhagan/Desktop/NeRP Research/Speckle_noise_datasets\"      # where to dump the .npz files\n",
    "threshold  = 1.0\n",
    "L          = 50\n",
    "sigma_w    = 1.0\n",
    "with open(data_path, \"rb\") as f:\n",
    "    data = pickle.load(f)   \n",
    "N, n = data.shape\n",
    "print(f\"loaded {N} patches of dimension {n}\")\n",
    "mask = np.max(data, axis=1) > threshold\n",
    "X = data[mask]\n",
    "M = X.shape[0]\n",
    "print(f\"keeping {M} patches (max‐pixel > {threshold})\")\n",
    "X /= 255\n",
    "print(X)\n",
    "os.makedirs(out_dir, exist_ok=True)\n",
    "m = n\n",
    "A = np.identity(n, dtype=float)\n",
    "Y = np.zeros((M, L, m), dtype=float)\n",
    "# generate looks\n",
    "for i, x in enumerate(X):\n",
    "    rng2 = np.random.default_rng(i)\n",
    "    W_block = rng2.standard_normal((L, n)) * sigma_w\n",
    "    X_block = x[None, :] * W_block\n",
    "    Y[i] = X_block.dot(A.T)\n",
    "out_path = os.path.join(out_dir, f\"coherent_just_speckle_imagenet50.npz\")\n",
    "print(\"path created\")\n",
    "np.savez_compressed(out_path, A=A, X=X, Y=Y)\n",
    "print(\"saved\")\n",
    "print(f\"→ saved {out_path}: A({m},{n}), X({M},{n}), Y({M},{L},{m})\")"
   ]
  },
  {
   "cell_type": "code",
   "execution_count": null,
   "id": "955aea56-732a-4ec5-9550-8c6cbf295c57",
   "metadata": {},
   "outputs": [],
   "source": [
    "# Example for Loading the data\n",
    "data = np.load(\"Speckle_noise_datasets/coherent_10pct.npz\")\n",
    "A_loaded = data[\"A\"] # m * n\n",
    "X_loaded = data[\"X\"] # N * n\n",
    "Y_loaded = data[\"Y\"] # N * L * m\n",
    "m = A_loaded.shape[0]\n",
    "n = A_loaded.shape[1]\n",
    "N = X_loaded.shape[0]\n",
    "L = Y_loaded.shape[1]\n",
    "print(\"m =\",m,\"n =\",n,\"N =\",N,\"L =\",L)"
   ]
  },
  {
   "cell_type": "code",
   "execution_count": null,
   "id": "b259a599-ba1a-4ec9-a547-2c833b74f94d",
   "metadata": {},
   "outputs": [],
   "source": []
  }
 ],
 "metadata": {
  "kernelspec": {
   "display_name": "Python 3 (ipykernel)",
   "language": "python",
   "name": "python3"
  },
  "language_info": {
   "codemirror_mode": {
    "name": "ipython",
    "version": 3
   },
   "file_extension": ".py",
   "mimetype": "text/x-python",
   "name": "python",
   "nbconvert_exporter": "python",
   "pygments_lexer": "ipython3",
   "version": "3.12.2"
  }
 },
 "nbformat": 4,
 "nbformat_minor": 5
}
